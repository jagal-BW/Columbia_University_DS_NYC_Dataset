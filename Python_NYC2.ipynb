{
 "cells": [
  {
   "cell_type": "markdown",
   "metadata": {
    "collapsed": true
   },
   "source": [
    "Markdown basics (http://daringfireball.net/projects/markdown/basics)\n",
    "# NY Taxi Rides\n",
    "\n",
    "### Data Provided by the New York City Taxi and Limousine Commission.\n",
    "Full dataset is 170 million taxi trips, 100GB of free space. Our subset is 0.5% of all trips, about 850,000 rides. Download the dataset from Cyrille Rossant on GitHub: https://github.com/ipython-books/minibook-2nd-data (https://github.com/ipython-books/minibook-2nd-data) NYC Taxi & Limousine Commission website (http://www.nyc.gov/html/tlc/html/about/trip_record_data.shtml) NYC Gov data description website (http://www.nyc.gov/html/tlc/downloads/pdf/data_dictionary_trip_records_yellow.pdf)\n"
   ]
  },
  {
   "cell_type": "code",
   "execution_count": 231,
   "metadata": {},
   "outputs": [],
   "source": [
    "import numpy as np \n",
    "import pandas as pd \n",
    "import matplotlib.pyplot as plt \n",
    "%matplotlib inline\n"
   ]
  },
  {
   "cell_type": "code",
   "execution_count": 232,
   "metadata": {},
   "outputs": [
    {
     "data": {
      "text/plain": [
       "'/Users/batman/Desktop'"
      ]
     },
     "execution_count": 232,
     "metadata": {},
     "output_type": "execute_result"
    }
   ],
   "source": [
    "pwd"
   ]
  },
  {
   "cell_type": "code",
   "execution_count": 233,
   "metadata": {},
   "outputs": [],
   "source": [
    "#File Path for NYC Data\n",
    "#data_filename = '../data/nyc_data.csv' \n",
    "data_filename = '/Users/batman/Desktop/data/nyc_data.csv'"
   ]
  },
  {
   "cell_type": "code",
   "execution_count": 234,
   "metadata": {},
   "outputs": [],
   "source": [
    "data = pd.read_csv(data_filename, \n",
    "                   parse_dates=['pickup_datetime', 'dropoff_datetime'] )\n",
    "#pd.read_csv?"
   ]
  },
  {
   "cell_type": "markdown",
   "metadata": {},
   "source": [
    "head() method of DataFrames displays the first three lines of the table"
   ]
  },
  {
   "cell_type": "code",
   "execution_count": 235,
   "metadata": {},
   "outputs": [
    {
     "data": {
      "text/html": [
       "<div>\n",
       "<style scoped>\n",
       "    .dataframe tbody tr th:only-of-type {\n",
       "        vertical-align: middle;\n",
       "    }\n",
       "\n",
       "    .dataframe tbody tr th {\n",
       "        vertical-align: top;\n",
       "    }\n",
       "\n",
       "    .dataframe thead th {\n",
       "        text-align: right;\n",
       "    }\n",
       "</style>\n",
       "<table border=\"1\" class=\"dataframe\">\n",
       "  <thead>\n",
       "    <tr style=\"text-align: right;\">\n",
       "      <th></th>\n",
       "      <th>medallion</th>\n",
       "      <th>hack_license</th>\n",
       "      <th>vendor_id</th>\n",
       "      <th>rate_code</th>\n",
       "      <th>store_and_fwd_flag</th>\n",
       "      <th>pickup_datetime</th>\n",
       "      <th>dropoff_datetime</th>\n",
       "      <th>passenger_count</th>\n",
       "      <th>trip_time_in_secs</th>\n",
       "      <th>trip_distance</th>\n",
       "      <th>pickup_longitude</th>\n",
       "      <th>pickup_latitude</th>\n",
       "      <th>dropoff_longitude</th>\n",
       "      <th>dropoff_latitude</th>\n",
       "    </tr>\n",
       "  </thead>\n",
       "  <tbody>\n",
       "    <tr>\n",
       "      <td>0</td>\n",
       "      <td>76942C3205E17D7E7FE5A9F709D16434</td>\n",
       "      <td>25BA06A87905667AA1FE5990E33F0E2E</td>\n",
       "      <td>VTS</td>\n",
       "      <td>1</td>\n",
       "      <td>NaN</td>\n",
       "      <td>2013-01-01 00:00:00</td>\n",
       "      <td>2013-01-01 00:05:00</td>\n",
       "      <td>3</td>\n",
       "      <td>300</td>\n",
       "      <td>0.61</td>\n",
       "      <td>-73.955925</td>\n",
       "      <td>40.781887</td>\n",
       "      <td>-73.963181</td>\n",
       "      <td>40.777832</td>\n",
       "    </tr>\n",
       "    <tr>\n",
       "      <td>1</td>\n",
       "      <td>517C6B330DBB3F055D007B07512628B3</td>\n",
       "      <td>2C19FBEE1A6E05612EFE4C958C14BC7F</td>\n",
       "      <td>VTS</td>\n",
       "      <td>1</td>\n",
       "      <td>NaN</td>\n",
       "      <td>2013-01-01 00:05:00</td>\n",
       "      <td>2013-01-01 00:21:00</td>\n",
       "      <td>1</td>\n",
       "      <td>960</td>\n",
       "      <td>3.28</td>\n",
       "      <td>-74.005501</td>\n",
       "      <td>40.745735</td>\n",
       "      <td>-73.964943</td>\n",
       "      <td>40.755722</td>\n",
       "    </tr>\n",
       "    <tr>\n",
       "      <td>2</td>\n",
       "      <td>ED15611F168E41B33619C83D900FE266</td>\n",
       "      <td>754AEBD7C80DA17BA1D81D89FB6F4D1D</td>\n",
       "      <td>CMT</td>\n",
       "      <td>1</td>\n",
       "      <td>N</td>\n",
       "      <td>2013-01-01 00:05:52</td>\n",
       "      <td>2013-01-01 00:12:18</td>\n",
       "      <td>1</td>\n",
       "      <td>386</td>\n",
       "      <td>1.50</td>\n",
       "      <td>-73.969955</td>\n",
       "      <td>40.799770</td>\n",
       "      <td>-73.954567</td>\n",
       "      <td>40.787392</td>\n",
       "    </tr>\n",
       "    <tr>\n",
       "      <td>3</td>\n",
       "      <td>B33E704CC189E80C9671230C16527BBC</td>\n",
       "      <td>6789C77E1CBDC850C450D72204702976</td>\n",
       "      <td>VTS</td>\n",
       "      <td>1</td>\n",
       "      <td>NaN</td>\n",
       "      <td>2013-01-01 00:06:00</td>\n",
       "      <td>2013-01-01 00:06:00</td>\n",
       "      <td>6</td>\n",
       "      <td>0</td>\n",
       "      <td>0.00</td>\n",
       "      <td>-73.991432</td>\n",
       "      <td>40.755081</td>\n",
       "      <td>-73.991417</td>\n",
       "      <td>40.755085</td>\n",
       "    </tr>\n",
       "    <tr>\n",
       "      <td>4</td>\n",
       "      <td>BD5CC6A22D05EB2D5C8235526A2A4276</td>\n",
       "      <td>5E8F2C93B5220A922699FEBAFC2F7A54</td>\n",
       "      <td>VTS</td>\n",
       "      <td>1</td>\n",
       "      <td>NaN</td>\n",
       "      <td>2013-01-01 00:06:00</td>\n",
       "      <td>2013-01-01 00:12:00</td>\n",
       "      <td>2</td>\n",
       "      <td>360</td>\n",
       "      <td>1.31</td>\n",
       "      <td>-73.966225</td>\n",
       "      <td>40.773716</td>\n",
       "      <td>-73.955399</td>\n",
       "      <td>40.782597</td>\n",
       "    </tr>\n",
       "  </tbody>\n",
       "</table>\n",
       "</div>"
      ],
      "text/plain": [
       "                          medallion                      hack_license  \\\n",
       "0  76942C3205E17D7E7FE5A9F709D16434  25BA06A87905667AA1FE5990E33F0E2E   \n",
       "1  517C6B330DBB3F055D007B07512628B3  2C19FBEE1A6E05612EFE4C958C14BC7F   \n",
       "2  ED15611F168E41B33619C83D900FE266  754AEBD7C80DA17BA1D81D89FB6F4D1D   \n",
       "3  B33E704CC189E80C9671230C16527BBC  6789C77E1CBDC850C450D72204702976   \n",
       "4  BD5CC6A22D05EB2D5C8235526A2A4276  5E8F2C93B5220A922699FEBAFC2F7A54   \n",
       "\n",
       "  vendor_id  rate_code store_and_fwd_flag     pickup_datetime  \\\n",
       "0       VTS          1                NaN 2013-01-01 00:00:00   \n",
       "1       VTS          1                NaN 2013-01-01 00:05:00   \n",
       "2       CMT          1                  N 2013-01-01 00:05:52   \n",
       "3       VTS          1                NaN 2013-01-01 00:06:00   \n",
       "4       VTS          1                NaN 2013-01-01 00:06:00   \n",
       "\n",
       "     dropoff_datetime  passenger_count  trip_time_in_secs  trip_distance  \\\n",
       "0 2013-01-01 00:05:00                3                300           0.61   \n",
       "1 2013-01-01 00:21:00                1                960           3.28   \n",
       "2 2013-01-01 00:12:18                1                386           1.50   \n",
       "3 2013-01-01 00:06:00                6                  0           0.00   \n",
       "4 2013-01-01 00:12:00                2                360           1.31   \n",
       "\n",
       "   pickup_longitude  pickup_latitude  dropoff_longitude  dropoff_latitude  \n",
       "0        -73.955925        40.781887         -73.963181         40.777832  \n",
       "1        -74.005501        40.745735         -73.964943         40.755722  \n",
       "2        -73.969955        40.799770         -73.954567         40.787392  \n",
       "3        -73.991432        40.755081         -73.991417         40.755085  \n",
       "4        -73.966225        40.773716         -73.955399         40.782597  "
      ]
     },
     "execution_count": 235,
     "metadata": {},
     "output_type": "execute_result"
    }
   ],
   "source": [
    "data.head()"
   ]
  },
  {
   "cell_type": "code",
   "execution_count": 236,
   "metadata": {},
   "outputs": [],
   "source": [
    "#File Path for NYC Fare Data\n",
    "tx_fare = pd.read_csv('/Users/batman/Desktop/data/nyc_fare.csv')\n"
   ]
  },
  {
   "cell_type": "code",
   "execution_count": 237,
   "metadata": {},
   "outputs": [
    {
     "data": {
      "text/html": [
       "<div>\n",
       "<style scoped>\n",
       "    .dataframe tbody tr th:only-of-type {\n",
       "        vertical-align: middle;\n",
       "    }\n",
       "\n",
       "    .dataframe tbody tr th {\n",
       "        vertical-align: top;\n",
       "    }\n",
       "\n",
       "    .dataframe thead th {\n",
       "        text-align: right;\n",
       "    }\n",
       "</style>\n",
       "<table border=\"1\" class=\"dataframe\">\n",
       "  <thead>\n",
       "    <tr style=\"text-align: right;\">\n",
       "      <th></th>\n",
       "      <th>medallion</th>\n",
       "      <th>hack_license</th>\n",
       "      <th>vendor_id</th>\n",
       "      <th>pickup_datetime</th>\n",
       "      <th>payment_type</th>\n",
       "      <th>fare_amount</th>\n",
       "      <th>surcharge</th>\n",
       "      <th>mta_tax</th>\n",
       "      <th>tip_amount</th>\n",
       "      <th>tolls_amount</th>\n",
       "      <th>total_amount</th>\n",
       "    </tr>\n",
       "  </thead>\n",
       "  <tbody>\n",
       "    <tr>\n",
       "      <td>0</td>\n",
       "      <td>76942C3205E17D7E7FE5A9F709D16434</td>\n",
       "      <td>25BA06A87905667AA1FE5990E33F0E2E</td>\n",
       "      <td>VTS</td>\n",
       "      <td>2013-01-01 00:00:00</td>\n",
       "      <td>CSH</td>\n",
       "      <td>5.0</td>\n",
       "      <td>0.5</td>\n",
       "      <td>0.5</td>\n",
       "      <td>0.0</td>\n",
       "      <td>0.0</td>\n",
       "      <td>6.0</td>\n",
       "    </tr>\n",
       "    <tr>\n",
       "      <td>1</td>\n",
       "      <td>517C6B330DBB3F055D007B07512628B3</td>\n",
       "      <td>2C19FBEE1A6E05612EFE4C958C14BC7F</td>\n",
       "      <td>VTS</td>\n",
       "      <td>2013-01-01 00:05:00</td>\n",
       "      <td>CRD</td>\n",
       "      <td>13.5</td>\n",
       "      <td>0.5</td>\n",
       "      <td>0.5</td>\n",
       "      <td>2.8</td>\n",
       "      <td>0.0</td>\n",
       "      <td>17.3</td>\n",
       "    </tr>\n",
       "    <tr>\n",
       "      <td>2</td>\n",
       "      <td>ED15611F168E41B33619C83D900FE266</td>\n",
       "      <td>754AEBD7C80DA17BA1D81D89FB6F4D1D</td>\n",
       "      <td>CMT</td>\n",
       "      <td>2013-01-01 00:05:52</td>\n",
       "      <td>CSH</td>\n",
       "      <td>7.5</td>\n",
       "      <td>0.5</td>\n",
       "      <td>0.5</td>\n",
       "      <td>0.0</td>\n",
       "      <td>0.0</td>\n",
       "      <td>8.5</td>\n",
       "    </tr>\n",
       "    <tr>\n",
       "      <td>3</td>\n",
       "      <td>B33E704CC189E80C9671230C16527BBC</td>\n",
       "      <td>6789C77E1CBDC850C450D72204702976</td>\n",
       "      <td>VTS</td>\n",
       "      <td>2013-01-01 00:06:00</td>\n",
       "      <td>CSH</td>\n",
       "      <td>2.5</td>\n",
       "      <td>0.5</td>\n",
       "      <td>0.5</td>\n",
       "      <td>0.0</td>\n",
       "      <td>0.0</td>\n",
       "      <td>3.5</td>\n",
       "    </tr>\n",
       "    <tr>\n",
       "      <td>4</td>\n",
       "      <td>BD5CC6A22D05EB2D5C8235526A2A4276</td>\n",
       "      <td>5E8F2C93B5220A922699FEBAFC2F7A54</td>\n",
       "      <td>VTS</td>\n",
       "      <td>2013-01-01 00:06:00</td>\n",
       "      <td>CSH</td>\n",
       "      <td>6.5</td>\n",
       "      <td>0.5</td>\n",
       "      <td>0.5</td>\n",
       "      <td>0.0</td>\n",
       "      <td>0.0</td>\n",
       "      <td>7.5</td>\n",
       "    </tr>\n",
       "  </tbody>\n",
       "</table>\n",
       "</div>"
      ],
      "text/plain": [
       "                          medallion                      hack_license  \\\n",
       "0  76942C3205E17D7E7FE5A9F709D16434  25BA06A87905667AA1FE5990E33F0E2E   \n",
       "1  517C6B330DBB3F055D007B07512628B3  2C19FBEE1A6E05612EFE4C958C14BC7F   \n",
       "2  ED15611F168E41B33619C83D900FE266  754AEBD7C80DA17BA1D81D89FB6F4D1D   \n",
       "3  B33E704CC189E80C9671230C16527BBC  6789C77E1CBDC850C450D72204702976   \n",
       "4  BD5CC6A22D05EB2D5C8235526A2A4276  5E8F2C93B5220A922699FEBAFC2F7A54   \n",
       "\n",
       "  vendor_id      pickup_datetime payment_type  fare_amount  surcharge  \\\n",
       "0       VTS  2013-01-01 00:00:00          CSH          5.0        0.5   \n",
       "1       VTS  2013-01-01 00:05:00          CRD         13.5        0.5   \n",
       "2       CMT  2013-01-01 00:05:52          CSH          7.5        0.5   \n",
       "3       VTS  2013-01-01 00:06:00          CSH          2.5        0.5   \n",
       "4       VTS  2013-01-01 00:06:00          CSH          6.5        0.5   \n",
       "\n",
       "   mta_tax  tip_amount  tolls_amount  total_amount  \n",
       "0      0.5         0.0           0.0           6.0  \n",
       "1      0.5         2.8           0.0          17.3  \n",
       "2      0.5         0.0           0.0           8.5  \n",
       "3      0.5         0.0           0.0           3.5  \n",
       "4      0.5         0.0           0.0           7.5  "
      ]
     },
     "execution_count": 237,
     "metadata": {},
     "output_type": "execute_result"
    }
   ],
   "source": [
    "tx_fare.head() #Reviewing Data"
   ]
  },
  {
   "cell_type": "code",
   "execution_count": 238,
   "metadata": {},
   "outputs": [
    {
     "data": {
      "text/plain": [
       "medallion                     object\n",
       "hack_license                  object\n",
       "vendor_id                     object\n",
       "rate_code                      int64\n",
       "store_and_fwd_flag            object\n",
       "pickup_datetime       datetime64[ns]\n",
       "dropoff_datetime      datetime64[ns]\n",
       "passenger_count                int64\n",
       "trip_time_in_secs              int64\n",
       "trip_distance                float64\n",
       "pickup_longitude             float64\n",
       "pickup_latitude              float64\n",
       "dropoff_longitude            float64\n",
       "dropoff_latitude             float64\n",
       "dtype: object"
      ]
     },
     "execution_count": 238,
     "metadata": {},
     "output_type": "execute_result"
    }
   ],
   "source": [
    "data.dtypes #Reviewing function types to ensure consistency "
   ]
  },
  {
   "cell_type": "code",
   "execution_count": 239,
   "metadata": {},
   "outputs": [
    {
     "data": {
      "text/plain": [
       "medallion           object\n",
       "hack_license        object\n",
       "vendor_id           object\n",
       "pickup_datetime     object\n",
       "payment_type        object\n",
       "fare_amount        float64\n",
       "surcharge          float64\n",
       "mta_tax            float64\n",
       "tip_amount         float64\n",
       "tolls_amount       float64\n",
       "total_amount       float64\n",
       "dtype: object"
      ]
     },
     "execution_count": 239,
     "metadata": {},
     "output_type": "execute_result"
    }
   ],
   "source": [
    "tx_fare.dtypes"
   ]
  },
  {
   "cell_type": "code",
   "execution_count": 240,
   "metadata": {},
   "outputs": [],
   "source": [
    "#changing pickup_datetime for consistency purposes to datetime64\n",
    "\n",
    "tx_fare['pickup_datetime'] =  pd.to_datetime(tx_fare['pickup_datetime'], format='%Y-%m-%d')"
   ]
  },
  {
   "cell_type": "code",
   "execution_count": 241,
   "metadata": {},
   "outputs": [],
   "source": [
    "#Merging to Dataframes\n",
    "df = pd.merge(data, tx_fare,  how='inner', left_on=['medallion','hack_license','vendor_id','pickup_datetime'], right_on = ['medallion','hack_license','vendor_id','pickup_datetime'])"
   ]
  },
  {
   "cell_type": "code",
   "execution_count": 242,
   "metadata": {},
   "outputs": [
    {
     "data": {
      "text/html": [
       "<div>\n",
       "<style scoped>\n",
       "    .dataframe tbody tr th:only-of-type {\n",
       "        vertical-align: middle;\n",
       "    }\n",
       "\n",
       "    .dataframe tbody tr th {\n",
       "        vertical-align: top;\n",
       "    }\n",
       "\n",
       "    .dataframe thead th {\n",
       "        text-align: right;\n",
       "    }\n",
       "</style>\n",
       "<table border=\"1\" class=\"dataframe\">\n",
       "  <thead>\n",
       "    <tr style=\"text-align: right;\">\n",
       "      <th></th>\n",
       "      <th>medallion</th>\n",
       "      <th>hack_license</th>\n",
       "      <th>vendor_id</th>\n",
       "      <th>rate_code</th>\n",
       "      <th>store_and_fwd_flag</th>\n",
       "      <th>pickup_datetime</th>\n",
       "      <th>dropoff_datetime</th>\n",
       "      <th>passenger_count</th>\n",
       "      <th>trip_time_in_secs</th>\n",
       "      <th>trip_distance</th>\n",
       "      <th>...</th>\n",
       "      <th>pickup_latitude</th>\n",
       "      <th>dropoff_longitude</th>\n",
       "      <th>dropoff_latitude</th>\n",
       "      <th>payment_type</th>\n",
       "      <th>fare_amount</th>\n",
       "      <th>surcharge</th>\n",
       "      <th>mta_tax</th>\n",
       "      <th>tip_amount</th>\n",
       "      <th>tolls_amount</th>\n",
       "      <th>total_amount</th>\n",
       "    </tr>\n",
       "  </thead>\n",
       "  <tbody>\n",
       "    <tr>\n",
       "      <td>0</td>\n",
       "      <td>76942C3205E17D7E7FE5A9F709D16434</td>\n",
       "      <td>25BA06A87905667AA1FE5990E33F0E2E</td>\n",
       "      <td>VTS</td>\n",
       "      <td>1</td>\n",
       "      <td>NaN</td>\n",
       "      <td>2013-01-01 00:00:00</td>\n",
       "      <td>2013-01-01 00:05:00</td>\n",
       "      <td>3</td>\n",
       "      <td>300</td>\n",
       "      <td>0.61</td>\n",
       "      <td>...</td>\n",
       "      <td>40.781887</td>\n",
       "      <td>-73.963181</td>\n",
       "      <td>40.777832</td>\n",
       "      <td>CSH</td>\n",
       "      <td>5.0</td>\n",
       "      <td>0.5</td>\n",
       "      <td>0.5</td>\n",
       "      <td>0.0</td>\n",
       "      <td>0.0</td>\n",
       "      <td>6.0</td>\n",
       "    </tr>\n",
       "    <tr>\n",
       "      <td>1</td>\n",
       "      <td>517C6B330DBB3F055D007B07512628B3</td>\n",
       "      <td>2C19FBEE1A6E05612EFE4C958C14BC7F</td>\n",
       "      <td>VTS</td>\n",
       "      <td>1</td>\n",
       "      <td>NaN</td>\n",
       "      <td>2013-01-01 00:05:00</td>\n",
       "      <td>2013-01-01 00:21:00</td>\n",
       "      <td>1</td>\n",
       "      <td>960</td>\n",
       "      <td>3.28</td>\n",
       "      <td>...</td>\n",
       "      <td>40.745735</td>\n",
       "      <td>-73.964943</td>\n",
       "      <td>40.755722</td>\n",
       "      <td>CRD</td>\n",
       "      <td>13.5</td>\n",
       "      <td>0.5</td>\n",
       "      <td>0.5</td>\n",
       "      <td>2.8</td>\n",
       "      <td>0.0</td>\n",
       "      <td>17.3</td>\n",
       "    </tr>\n",
       "    <tr>\n",
       "      <td>2</td>\n",
       "      <td>ED15611F168E41B33619C83D900FE266</td>\n",
       "      <td>754AEBD7C80DA17BA1D81D89FB6F4D1D</td>\n",
       "      <td>CMT</td>\n",
       "      <td>1</td>\n",
       "      <td>N</td>\n",
       "      <td>2013-01-01 00:05:52</td>\n",
       "      <td>2013-01-01 00:12:18</td>\n",
       "      <td>1</td>\n",
       "      <td>386</td>\n",
       "      <td>1.50</td>\n",
       "      <td>...</td>\n",
       "      <td>40.799770</td>\n",
       "      <td>-73.954567</td>\n",
       "      <td>40.787392</td>\n",
       "      <td>CSH</td>\n",
       "      <td>7.5</td>\n",
       "      <td>0.5</td>\n",
       "      <td>0.5</td>\n",
       "      <td>0.0</td>\n",
       "      <td>0.0</td>\n",
       "      <td>8.5</td>\n",
       "    </tr>\n",
       "    <tr>\n",
       "      <td>3</td>\n",
       "      <td>B33E704CC189E80C9671230C16527BBC</td>\n",
       "      <td>6789C77E1CBDC850C450D72204702976</td>\n",
       "      <td>VTS</td>\n",
       "      <td>1</td>\n",
       "      <td>NaN</td>\n",
       "      <td>2013-01-01 00:06:00</td>\n",
       "      <td>2013-01-01 00:06:00</td>\n",
       "      <td>6</td>\n",
       "      <td>0</td>\n",
       "      <td>0.00</td>\n",
       "      <td>...</td>\n",
       "      <td>40.755081</td>\n",
       "      <td>-73.991417</td>\n",
       "      <td>40.755085</td>\n",
       "      <td>CSH</td>\n",
       "      <td>2.5</td>\n",
       "      <td>0.5</td>\n",
       "      <td>0.5</td>\n",
       "      <td>0.0</td>\n",
       "      <td>0.0</td>\n",
       "      <td>3.5</td>\n",
       "    </tr>\n",
       "    <tr>\n",
       "      <td>4</td>\n",
       "      <td>BD5CC6A22D05EB2D5C8235526A2A4276</td>\n",
       "      <td>5E8F2C93B5220A922699FEBAFC2F7A54</td>\n",
       "      <td>VTS</td>\n",
       "      <td>1</td>\n",
       "      <td>NaN</td>\n",
       "      <td>2013-01-01 00:06:00</td>\n",
       "      <td>2013-01-01 00:12:00</td>\n",
       "      <td>2</td>\n",
       "      <td>360</td>\n",
       "      <td>1.31</td>\n",
       "      <td>...</td>\n",
       "      <td>40.773716</td>\n",
       "      <td>-73.955399</td>\n",
       "      <td>40.782597</td>\n",
       "      <td>CSH</td>\n",
       "      <td>6.5</td>\n",
       "      <td>0.5</td>\n",
       "      <td>0.5</td>\n",
       "      <td>0.0</td>\n",
       "      <td>0.0</td>\n",
       "      <td>7.5</td>\n",
       "    </tr>\n",
       "  </tbody>\n",
       "</table>\n",
       "<p>5 rows × 21 columns</p>\n",
       "</div>"
      ],
      "text/plain": [
       "                          medallion                      hack_license  \\\n",
       "0  76942C3205E17D7E7FE5A9F709D16434  25BA06A87905667AA1FE5990E33F0E2E   \n",
       "1  517C6B330DBB3F055D007B07512628B3  2C19FBEE1A6E05612EFE4C958C14BC7F   \n",
       "2  ED15611F168E41B33619C83D900FE266  754AEBD7C80DA17BA1D81D89FB6F4D1D   \n",
       "3  B33E704CC189E80C9671230C16527BBC  6789C77E1CBDC850C450D72204702976   \n",
       "4  BD5CC6A22D05EB2D5C8235526A2A4276  5E8F2C93B5220A922699FEBAFC2F7A54   \n",
       "\n",
       "  vendor_id  rate_code store_and_fwd_flag     pickup_datetime  \\\n",
       "0       VTS          1                NaN 2013-01-01 00:00:00   \n",
       "1       VTS          1                NaN 2013-01-01 00:05:00   \n",
       "2       CMT          1                  N 2013-01-01 00:05:52   \n",
       "3       VTS          1                NaN 2013-01-01 00:06:00   \n",
       "4       VTS          1                NaN 2013-01-01 00:06:00   \n",
       "\n",
       "     dropoff_datetime  passenger_count  trip_time_in_secs  trip_distance  ...  \\\n",
       "0 2013-01-01 00:05:00                3                300           0.61  ...   \n",
       "1 2013-01-01 00:21:00                1                960           3.28  ...   \n",
       "2 2013-01-01 00:12:18                1                386           1.50  ...   \n",
       "3 2013-01-01 00:06:00                6                  0           0.00  ...   \n",
       "4 2013-01-01 00:12:00                2                360           1.31  ...   \n",
       "\n",
       "   pickup_latitude  dropoff_longitude  dropoff_latitude  payment_type  \\\n",
       "0        40.781887         -73.963181         40.777832           CSH   \n",
       "1        40.745735         -73.964943         40.755722           CRD   \n",
       "2        40.799770         -73.954567         40.787392           CSH   \n",
       "3        40.755081         -73.991417         40.755085           CSH   \n",
       "4        40.773716         -73.955399         40.782597           CSH   \n",
       "\n",
       "  fare_amount  surcharge  mta_tax  tip_amount  tolls_amount  total_amount  \n",
       "0         5.0        0.5      0.5         0.0           0.0           6.0  \n",
       "1        13.5        0.5      0.5         2.8           0.0          17.3  \n",
       "2         7.5        0.5      0.5         0.0           0.0           8.5  \n",
       "3         2.5        0.5      0.5         0.0           0.0           3.5  \n",
       "4         6.5        0.5      0.5         0.0           0.0           7.5  \n",
       "\n",
       "[5 rows x 21 columns]"
      ]
     },
     "execution_count": 242,
     "metadata": {},
     "output_type": "execute_result"
    }
   ],
   "source": [
    "df.head()"
   ]
  },
  {
   "cell_type": "code",
   "execution_count": 243,
   "metadata": {},
   "outputs": [
    {
     "name": "stdout",
     "output_type": "stream",
     "text": [
      "(846945, 21)\n"
     ]
    }
   ],
   "source": [
    "print(df.shape)"
   ]
  },
  {
   "cell_type": "code",
   "execution_count": 244,
   "metadata": {},
   "outputs": [
    {
     "name": "stdout",
     "output_type": "stream",
     "text": [
      "<class 'pandas.core.frame.DataFrame'>\n",
      "Int64Index: 846945 entries, 0 to 846944\n",
      "Data columns (total 21 columns):\n",
      "medallion             846945 non-null object\n",
      "hack_license          846945 non-null object\n",
      "vendor_id             846945 non-null object\n",
      "rate_code             846945 non-null int64\n",
      "store_and_fwd_flag    424577 non-null object\n",
      "pickup_datetime       846945 non-null datetime64[ns]\n",
      "dropoff_datetime      846945 non-null datetime64[ns]\n",
      "passenger_count       846945 non-null int64\n",
      "trip_time_in_secs     846945 non-null int64\n",
      "trip_distance         846945 non-null float64\n",
      "pickup_longitude      846945 non-null float64\n",
      "pickup_latitude       846945 non-null float64\n",
      "dropoff_longitude     846945 non-null float64\n",
      "dropoff_latitude      846945 non-null float64\n",
      "payment_type          846945 non-null object\n",
      "fare_amount           846945 non-null float64\n",
      "surcharge             846945 non-null float64\n",
      "mta_tax               846945 non-null float64\n",
      "tip_amount            846945 non-null float64\n",
      "tolls_amount          846945 non-null float64\n",
      "total_amount          846945 non-null float64\n",
      "dtypes: datetime64[ns](2), float64(11), int64(3), object(5)\n",
      "memory usage: 142.2+ MB\n"
     ]
    }
   ],
   "source": [
    "df.info()"
   ]
  },
  {
   "cell_type": "code",
   "execution_count": 245,
   "metadata": {},
   "outputs": [
    {
     "data": {
      "text/html": [
       "<div>\n",
       "<style scoped>\n",
       "    .dataframe tbody tr th:only-of-type {\n",
       "        vertical-align: middle;\n",
       "    }\n",
       "\n",
       "    .dataframe tbody tr th {\n",
       "        vertical-align: top;\n",
       "    }\n",
       "\n",
       "    .dataframe thead th {\n",
       "        text-align: right;\n",
       "    }\n",
       "</style>\n",
       "<table border=\"1\" class=\"dataframe\">\n",
       "  <thead>\n",
       "    <tr style=\"text-align: right;\">\n",
       "      <th></th>\n",
       "      <th>rate_code</th>\n",
       "      <th>passenger_count</th>\n",
       "      <th>trip_time_in_secs</th>\n",
       "      <th>trip_distance</th>\n",
       "      <th>pickup_longitude</th>\n",
       "      <th>pickup_latitude</th>\n",
       "      <th>dropoff_longitude</th>\n",
       "      <th>dropoff_latitude</th>\n",
       "      <th>fare_amount</th>\n",
       "      <th>surcharge</th>\n",
       "      <th>mta_tax</th>\n",
       "      <th>tip_amount</th>\n",
       "      <th>tolls_amount</th>\n",
       "      <th>total_amount</th>\n",
       "    </tr>\n",
       "  </thead>\n",
       "  <tbody>\n",
       "    <tr>\n",
       "      <td>count</td>\n",
       "      <td>846945.000000</td>\n",
       "      <td>846945.000000</td>\n",
       "      <td>8.469450e+05</td>\n",
       "      <td>8.469450e+05</td>\n",
       "      <td>846945.000000</td>\n",
       "      <td>846945.000000</td>\n",
       "      <td>846945.000000</td>\n",
       "      <td>846945.000000</td>\n",
       "      <td>846945.000000</td>\n",
       "      <td>846945.000000</td>\n",
       "      <td>846945.000000</td>\n",
       "      <td>846945.00000</td>\n",
       "      <td>846945.000000</td>\n",
       "      <td>846945.000000</td>\n",
       "    </tr>\n",
       "    <tr>\n",
       "      <td>mean</td>\n",
       "      <td>1.026123</td>\n",
       "      <td>1.710272</td>\n",
       "      <td>8.125239e+02</td>\n",
       "      <td>9.958211e+00</td>\n",
       "      <td>-73.975155</td>\n",
       "      <td>40.750490</td>\n",
       "      <td>-73.974197</td>\n",
       "      <td>40.750967</td>\n",
       "      <td>12.190578</td>\n",
       "      <td>0.320303</td>\n",
       "      <td>0.499305</td>\n",
       "      <td>1.34466</td>\n",
       "      <td>0.232142</td>\n",
       "      <td>14.587073</td>\n",
       "    </tr>\n",
       "    <tr>\n",
       "      <td>std</td>\n",
       "      <td>0.223480</td>\n",
       "      <td>1.375266</td>\n",
       "      <td>1.609831e+04</td>\n",
       "      <td>6.525205e+03</td>\n",
       "      <td>0.035142</td>\n",
       "      <td>0.027224</td>\n",
       "      <td>0.033453</td>\n",
       "      <td>0.030766</td>\n",
       "      <td>9.514150</td>\n",
       "      <td>0.772642</td>\n",
       "      <td>0.057844</td>\n",
       "      <td>2.09149</td>\n",
       "      <td>1.109164</td>\n",
       "      <td>11.380950</td>\n",
       "    </tr>\n",
       "    <tr>\n",
       "      <td>min</td>\n",
       "      <td>0.000000</td>\n",
       "      <td>0.000000</td>\n",
       "      <td>-1.000000e+01</td>\n",
       "      <td>0.000000e+00</td>\n",
       "      <td>-74.098305</td>\n",
       "      <td>40.009911</td>\n",
       "      <td>-74.099998</td>\n",
       "      <td>40.009911</td>\n",
       "      <td>-648.420000</td>\n",
       "      <td>-1.000000</td>\n",
       "      <td>-0.500000</td>\n",
       "      <td>0.00000</td>\n",
       "      <td>0.000000</td>\n",
       "      <td>-52.500000</td>\n",
       "    </tr>\n",
       "    <tr>\n",
       "      <td>25%</td>\n",
       "      <td>1.000000</td>\n",
       "      <td>1.000000</td>\n",
       "      <td>3.610000e+02</td>\n",
       "      <td>1.050000e+00</td>\n",
       "      <td>-73.992371</td>\n",
       "      <td>40.736031</td>\n",
       "      <td>-73.991570</td>\n",
       "      <td>40.735207</td>\n",
       "      <td>6.500000</td>\n",
       "      <td>0.000000</td>\n",
       "      <td>0.500000</td>\n",
       "      <td>0.00000</td>\n",
       "      <td>0.000000</td>\n",
       "      <td>8.000000</td>\n",
       "    </tr>\n",
       "    <tr>\n",
       "      <td>50%</td>\n",
       "      <td>1.000000</td>\n",
       "      <td>1.000000</td>\n",
       "      <td>6.000000e+02</td>\n",
       "      <td>1.800000e+00</td>\n",
       "      <td>-73.982094</td>\n",
       "      <td>40.752975</td>\n",
       "      <td>-73.980614</td>\n",
       "      <td>40.753597</td>\n",
       "      <td>9.500000</td>\n",
       "      <td>0.000000</td>\n",
       "      <td>0.500000</td>\n",
       "      <td>1.00000</td>\n",
       "      <td>0.000000</td>\n",
       "      <td>11.000000</td>\n",
       "    </tr>\n",
       "    <tr>\n",
       "      <td>75%</td>\n",
       "      <td>1.000000</td>\n",
       "      <td>2.000000</td>\n",
       "      <td>9.600000e+02</td>\n",
       "      <td>3.200000e+00</td>\n",
       "      <td>-73.968048</td>\n",
       "      <td>40.767460</td>\n",
       "      <td>-73.965157</td>\n",
       "      <td>40.768227</td>\n",
       "      <td>14.000000</td>\n",
       "      <td>0.500000</td>\n",
       "      <td>0.500000</td>\n",
       "      <td>2.00000</td>\n",
       "      <td>0.000000</td>\n",
       "      <td>16.500000</td>\n",
       "    </tr>\n",
       "    <tr>\n",
       "      <td>max</td>\n",
       "      <td>6.000000</td>\n",
       "      <td>6.000000</td>\n",
       "      <td>4.294796e+06</td>\n",
       "      <td>6.005123e+06</td>\n",
       "      <td>-73.028473</td>\n",
       "      <td>40.996132</td>\n",
       "      <td>-73.027061</td>\n",
       "      <td>40.998592</td>\n",
       "      <td>620.010000</td>\n",
       "      <td>628.840000</td>\n",
       "      <td>41.490000</td>\n",
       "      <td>200.00000</td>\n",
       "      <td>100.660000</td>\n",
       "      <td>620.010000</td>\n",
       "    </tr>\n",
       "  </tbody>\n",
       "</table>\n",
       "</div>"
      ],
      "text/plain": [
       "           rate_code  passenger_count  trip_time_in_secs  trip_distance  \\\n",
       "count  846945.000000    846945.000000       8.469450e+05   8.469450e+05   \n",
       "mean        1.026123         1.710272       8.125239e+02   9.958211e+00   \n",
       "std         0.223480         1.375266       1.609831e+04   6.525205e+03   \n",
       "min         0.000000         0.000000      -1.000000e+01   0.000000e+00   \n",
       "25%         1.000000         1.000000       3.610000e+02   1.050000e+00   \n",
       "50%         1.000000         1.000000       6.000000e+02   1.800000e+00   \n",
       "75%         1.000000         2.000000       9.600000e+02   3.200000e+00   \n",
       "max         6.000000         6.000000       4.294796e+06   6.005123e+06   \n",
       "\n",
       "       pickup_longitude  pickup_latitude  dropoff_longitude  dropoff_latitude  \\\n",
       "count     846945.000000    846945.000000      846945.000000     846945.000000   \n",
       "mean         -73.975155        40.750490         -73.974197         40.750967   \n",
       "std            0.035142         0.027224           0.033453          0.030766   \n",
       "min          -74.098305        40.009911         -74.099998         40.009911   \n",
       "25%          -73.992371        40.736031         -73.991570         40.735207   \n",
       "50%          -73.982094        40.752975         -73.980614         40.753597   \n",
       "75%          -73.968048        40.767460         -73.965157         40.768227   \n",
       "max          -73.028473        40.996132         -73.027061         40.998592   \n",
       "\n",
       "         fare_amount      surcharge        mta_tax    tip_amount  \\\n",
       "count  846945.000000  846945.000000  846945.000000  846945.00000   \n",
       "mean       12.190578       0.320303       0.499305       1.34466   \n",
       "std         9.514150       0.772642       0.057844       2.09149   \n",
       "min      -648.420000      -1.000000      -0.500000       0.00000   \n",
       "25%         6.500000       0.000000       0.500000       0.00000   \n",
       "50%         9.500000       0.000000       0.500000       1.00000   \n",
       "75%        14.000000       0.500000       0.500000       2.00000   \n",
       "max       620.010000     628.840000      41.490000     200.00000   \n",
       "\n",
       "        tolls_amount   total_amount  \n",
       "count  846945.000000  846945.000000  \n",
       "mean        0.232142      14.587073  \n",
       "std         1.109164      11.380950  \n",
       "min         0.000000     -52.500000  \n",
       "25%         0.000000       8.000000  \n",
       "50%         0.000000      11.000000  \n",
       "75%         0.000000      16.500000  \n",
       "max       100.660000     620.010000  "
      ]
     },
     "execution_count": 245,
     "metadata": {},
     "output_type": "execute_result"
    }
   ],
   "source": [
    "#Running Numeric Statistics \n",
    "df.describe()"
   ]
  },
  {
   "cell_type": "code",
   "execution_count": 246,
   "metadata": {},
   "outputs": [],
   "source": [
    "#Removing duplicate data that could skew results/analysis \n",
    "df = df.drop_duplicates()"
   ]
  },
  {
   "cell_type": "code",
   "execution_count": 247,
   "metadata": {},
   "outputs": [],
   "source": [
    "df1 = df.copy()  #Making copy to manipulate and analyze data "
   ]
  },
  {
   "cell_type": "code",
   "execution_count": 248,
   "metadata": {},
   "outputs": [],
   "source": [
    "#Observing the data reveals negative amounts (for example, min from above).  This must be an input error as \n",
    "#fare/trip/charge amounts cannot be negative.  Will remove these values.  \n",
    "\n",
    "df1 = df1[df1['total_amount']>=0]\n",
    "df1 = df1[df1['trip_time_in_secs']>=0] \n",
    "df1 = df1[df1['fare_amount']>=0] \n",
    "df1 = df1[df1['surcharge']>=0]\n",
    "df1 = df1[df1['mta_tax']>=0] "
   ]
  },
  {
   "cell_type": "code",
   "execution_count": 249,
   "metadata": {},
   "outputs": [
    {
     "name": "stdout",
     "output_type": "stream",
     "text": [
      "Previous size: 846945 ; Altered size: 846927\n"
     ]
    }
   ],
   "source": [
    "print('Previous size: %d' % len(df),'; Altered size: %d' % len(df1))  #comparing size of pre and post df's "
   ]
  },
  {
   "cell_type": "code",
   "execution_count": 250,
   "metadata": {},
   "outputs": [],
   "source": [
    "#Searching for columns that may have substantial missing values \n",
    "missing_values = df1.isnull().sum() * 100 / len(df1)"
   ]
  },
  {
   "cell_type": "code",
   "execution_count": 251,
   "metadata": {},
   "outputs": [],
   "source": [
    " mvDF = pd.DataFrame({'column': df1.columns,\n",
    "                                 'Missing Percentage': missing_values})  #identifying missing values as a percentage"
   ]
  },
  {
   "cell_type": "code",
   "execution_count": 252,
   "metadata": {},
   "outputs": [
    {
     "data": {
      "text/html": [
       "<div>\n",
       "<style scoped>\n",
       "    .dataframe tbody tr th:only-of-type {\n",
       "        vertical-align: middle;\n",
       "    }\n",
       "\n",
       "    .dataframe tbody tr th {\n",
       "        vertical-align: top;\n",
       "    }\n",
       "\n",
       "    .dataframe thead th {\n",
       "        text-align: right;\n",
       "    }\n",
       "</style>\n",
       "<table border=\"1\" class=\"dataframe\">\n",
       "  <thead>\n",
       "    <tr style=\"text-align: right;\">\n",
       "      <th></th>\n",
       "      <th>column</th>\n",
       "      <th>Missing Percentage</th>\n",
       "    </tr>\n",
       "  </thead>\n",
       "  <tbody>\n",
       "    <tr>\n",
       "      <td>0</td>\n",
       "      <td>medallion</td>\n",
       "      <td>0.000000</td>\n",
       "    </tr>\n",
       "    <tr>\n",
       "      <td>1</td>\n",
       "      <td>hack_license</td>\n",
       "      <td>0.000000</td>\n",
       "    </tr>\n",
       "    <tr>\n",
       "      <td>2</td>\n",
       "      <td>vendor_id</td>\n",
       "      <td>0.000000</td>\n",
       "    </tr>\n",
       "    <tr>\n",
       "      <td>3</td>\n",
       "      <td>rate_code</td>\n",
       "      <td>0.000000</td>\n",
       "    </tr>\n",
       "    <tr>\n",
       "      <td>4</td>\n",
       "      <td>store_and_fwd_flag</td>\n",
       "      <td>49.868643</td>\n",
       "    </tr>\n",
       "    <tr>\n",
       "      <td>5</td>\n",
       "      <td>pickup_datetime</td>\n",
       "      <td>0.000000</td>\n",
       "    </tr>\n",
       "    <tr>\n",
       "      <td>6</td>\n",
       "      <td>dropoff_datetime</td>\n",
       "      <td>0.000000</td>\n",
       "    </tr>\n",
       "    <tr>\n",
       "      <td>7</td>\n",
       "      <td>passenger_count</td>\n",
       "      <td>0.000000</td>\n",
       "    </tr>\n",
       "    <tr>\n",
       "      <td>8</td>\n",
       "      <td>trip_time_in_secs</td>\n",
       "      <td>0.000000</td>\n",
       "    </tr>\n",
       "    <tr>\n",
       "      <td>9</td>\n",
       "      <td>trip_distance</td>\n",
       "      <td>0.000000</td>\n",
       "    </tr>\n",
       "    <tr>\n",
       "      <td>10</td>\n",
       "      <td>pickup_longitude</td>\n",
       "      <td>0.000000</td>\n",
       "    </tr>\n",
       "    <tr>\n",
       "      <td>11</td>\n",
       "      <td>pickup_latitude</td>\n",
       "      <td>0.000000</td>\n",
       "    </tr>\n",
       "    <tr>\n",
       "      <td>12</td>\n",
       "      <td>dropoff_longitude</td>\n",
       "      <td>0.000000</td>\n",
       "    </tr>\n",
       "    <tr>\n",
       "      <td>13</td>\n",
       "      <td>dropoff_latitude</td>\n",
       "      <td>0.000000</td>\n",
       "    </tr>\n",
       "    <tr>\n",
       "      <td>14</td>\n",
       "      <td>payment_type</td>\n",
       "      <td>0.000000</td>\n",
       "    </tr>\n",
       "    <tr>\n",
       "      <td>15</td>\n",
       "      <td>fare_amount</td>\n",
       "      <td>0.000000</td>\n",
       "    </tr>\n",
       "    <tr>\n",
       "      <td>16</td>\n",
       "      <td>surcharge</td>\n",
       "      <td>0.000000</td>\n",
       "    </tr>\n",
       "    <tr>\n",
       "      <td>17</td>\n",
       "      <td>mta_tax</td>\n",
       "      <td>0.000000</td>\n",
       "    </tr>\n",
       "    <tr>\n",
       "      <td>18</td>\n",
       "      <td>tip_amount</td>\n",
       "      <td>0.000000</td>\n",
       "    </tr>\n",
       "    <tr>\n",
       "      <td>19</td>\n",
       "      <td>tolls_amount</td>\n",
       "      <td>0.000000</td>\n",
       "    </tr>\n",
       "    <tr>\n",
       "      <td>20</td>\n",
       "      <td>total_amount</td>\n",
       "      <td>0.000000</td>\n",
       "    </tr>\n",
       "  </tbody>\n",
       "</table>\n",
       "</div>"
      ],
      "text/plain": [
       "                column  Missing Percentage\n",
       "0            medallion            0.000000\n",
       "1         hack_license            0.000000\n",
       "2            vendor_id            0.000000\n",
       "3            rate_code            0.000000\n",
       "4   store_and_fwd_flag           49.868643\n",
       "5      pickup_datetime            0.000000\n",
       "6     dropoff_datetime            0.000000\n",
       "7      passenger_count            0.000000\n",
       "8    trip_time_in_secs            0.000000\n",
       "9        trip_distance            0.000000\n",
       "10    pickup_longitude            0.000000\n",
       "11     pickup_latitude            0.000000\n",
       "12   dropoff_longitude            0.000000\n",
       "13    dropoff_latitude            0.000000\n",
       "14        payment_type            0.000000\n",
       "15         fare_amount            0.000000\n",
       "16           surcharge            0.000000\n",
       "17             mta_tax            0.000000\n",
       "18          tip_amount            0.000000\n",
       "19        tolls_amount            0.000000\n",
       "20        total_amount            0.000000"
      ]
     },
     "execution_count": 252,
     "metadata": {},
     "output_type": "execute_result"
    }
   ],
   "source": [
    "mvDF.reset_index(drop=True) #reveales that (4) 'store and fwd flag' has approx 50% of values missing.   We should \n",
    "#therefore drop this column"
   ]
  },
  {
   "cell_type": "code",
   "execution_count": 253,
   "metadata": {},
   "outputs": [],
   "source": [
    "df1 = df1.drop('store_and_fwd_flag',axis=1)"
   ]
  },
  {
   "cell_type": "code",
   "execution_count": 254,
   "metadata": {},
   "outputs": [
    {
     "data": {
      "text/plain": [
       "<matplotlib.axes._subplots.AxesSubplot at 0x16b328050>"
      ]
     },
     "execution_count": 254,
     "metadata": {},
     "output_type": "execute_result"
    },
    {
     "data": {
      "image/png": "[encoded data removed]",
      "text/plain": [
       "<Figure size 432x288 with 1 Axes>"
      ]
     },
     "metadata": {
      "needs_background": "light"
     },
     "output_type": "display_data"
    }
   ],
   "source": [
    "#Now that we have calculated numerical amounts, removed missing values/data, we shall identify data which \n",
    "#are inconsistent with the remaining data set.\n",
    "\n",
    "#We are going to use Plots to graphically review data ~ similar to histograms and scatterplots. \n",
    "#The plot reveals an outlier trip distance of 6 million miles (which has to be an error)\n",
    "\n",
    "import seaborn as sns\n",
    "sns.boxplot(x=df1['trip_distance']) "
   ]
  },
  {
   "cell_type": "code",
   "execution_count": 255,
   "metadata": {},
   "outputs": [
    {
     "data": {
      "text/plain": [
       "<matplotlib.axes._subplots.AxesSubplot at 0x16b4a8a10>"
      ]
     },
     "execution_count": 255,
     "metadata": {},
     "output_type": "execute_result"
    },
    {
     "data": {
      "image/png": "[encoded data removed]",
      "text/plain": [
       "<Figure size 432x288 with 1 Axes>"
      ]
     },
     "metadata": {
      "needs_background": "light"
     },
     "output_type": "display_data"
    }
   ],
   "source": [
    "sns.boxplot(x=df1['fare_amount']) #the plot reveals a few rides greater than $300 USD with a max approximately \n",
    "#$600 USD.  "
   ]
  },
  {
   "cell_type": "code",
   "execution_count": 256,
   "metadata": {},
   "outputs": [
    {
     "data": {
      "text/plain": [
       "<matplotlib.axes._subplots.AxesSubplot at 0x178c56490>"
      ]
     },
     "execution_count": 256,
     "metadata": {},
     "output_type": "execute_result"
    },
    {
     "data": {
      "image/png": "[encoded data removed]",
      "text/plain": [
       "<Figure size 432x288 with 1 Axes>"
      ]
     },
     "metadata": {
      "needs_background": "light"
     },
     "output_type": "display_data"
    }
   ],
   "source": [
    "sns.boxplot(x=df1['passenger_count'])"
   ]
  },
  {
   "cell_type": "code",
   "execution_count": 257,
   "metadata": {},
   "outputs": [
    {
     "data": {
      "text/plain": [
       "<matplotlib.axes._subplots.AxesSubplot at 0x1674c9190>"
      ]
     },
     "execution_count": 257,
     "metadata": {},
     "output_type": "execute_result"
    },
    {
     "data": {
      "image/png": "[encoded data removed]",
      "text/plain": [
       "<Figure size 432x288 with 1 Axes>"
      ]
     },
     "metadata": {
      "needs_background": "light"
     },
     "output_type": "display_data"
    }
   ],
   "source": [
    "sns.boxplot(x=df1['surcharge'])"
   ]
  },
  {
   "cell_type": "code",
   "execution_count": 258,
   "metadata": {},
   "outputs": [
    {
     "data": {
      "text/plain": [
       "<matplotlib.axes._subplots.AxesSubplot at 0x16b39b090>"
      ]
     },
     "execution_count": 258,
     "metadata": {},
     "output_type": "execute_result"
    },
    {
     "data": {
      "image/png": "[encoded data removed]",
      "text/plain": [
       "<Figure size 432x288 with 1 Axes>"
      ]
     },
     "metadata": {
      "needs_background": "light"
     },
     "output_type": "display_data"
    }
   ],
   "source": [
    "sns.boxplot(x=df1['pickup_longitude'])"
   ]
  },
  {
   "cell_type": "code",
   "execution_count": 259,
   "metadata": {},
   "outputs": [
    {
     "data": {
      "text/plain": [
       "<matplotlib.axes._subplots.AxesSubplot at 0x17d931890>"
      ]
     },
     "execution_count": 259,
     "metadata": {},
     "output_type": "execute_result"
    },
    {
     "data": {
      "image/png": "[encoded data removed]",
      "text/plain": [
       "<Figure size 432x288 with 1 Axes>"
      ]
     },
     "metadata": {
      "needs_background": "light"
     },
     "output_type": "display_data"
    }
   ],
   "source": [
    "sns.boxplot(x=df1['pickup_latitude'])"
   ]
  },
  {
   "cell_type": "code",
   "execution_count": 260,
   "metadata": {},
   "outputs": [
    {
     "data": {
      "text/plain": [
       "<matplotlib.axes._subplots.AxesSubplot at 0x162cd1210>"
      ]
     },
     "execution_count": 260,
     "metadata": {},
     "output_type": "execute_result"
    },
    {
     "data": {
      "image/png": "[encoded data removed]",
      "text/plain": [
       "<Figure size 432x288 with 1 Axes>"
      ]
     },
     "metadata": {
      "needs_background": "light"
     },
     "output_type": "display_data"
    }
   ],
   "source": [
    "sns.boxplot(x=df1['dropoff_longitude'])"
   ]
  },
  {
   "cell_type": "code",
   "execution_count": 261,
   "metadata": {},
   "outputs": [
    {
     "data": {
      "text/plain": [
       "<matplotlib.axes._subplots.AxesSubplot at 0x162e71950>"
      ]
     },
     "execution_count": 261,
     "metadata": {},
     "output_type": "execute_result"
    },
    {
     "data": {
      "image/png": "[encoded data removed]",
      "text/plain": [
       "<Figure size 432x288 with 1 Axes>"
      ]
     },
     "metadata": {
      "needs_background": "light"
     },
     "output_type": "display_data"
    }
   ],
   "source": [
    "sns.boxplot(x=df1['dropoff_latitude'])"
   ]
  },
  {
   "cell_type": "code",
   "execution_count": 262,
   "metadata": {},
   "outputs": [],
   "source": [
    "# REMOVE OUTLIERS--for trip distance of approx 6,000,000 miles as this is obvisouly an error and \n",
    "#could skew the dataset \n",
    "\n",
    "df2 = df1.copy()\n",
    "df2 = df2[(df2['trip_distance']) < 6000000].reset_index(drop=True)"
   ]
  },
  {
   "cell_type": "code",
   "execution_count": 263,
   "metadata": {},
   "outputs": [
    {
     "data": {
      "text/plain": [
       "<matplotlib.axes._subplots.AxesSubplot at 0x160f50710>"
      ]
     },
     "execution_count": 263,
     "metadata": {},
     "output_type": "execute_result"
    },
    {
     "data": {
      "image/png": "[encoded data removed]",
      "text/plain": [
       "<Figure size 432x288 with 1 Axes>"
      ]
     },
     "metadata": {
      "needs_background": "light"
     },
     "output_type": "display_data"
    }
   ],
   "source": [
    "sns.boxplot(x = df2['trip_distance']) #reveals data which is more consistent with the remaining dataset and shows 3\n",
    "#trips greater than 100 miles.   Technically, there would be 4 if we included the 6M mile trip.  "
   ]
  },
  {
   "cell_type": "code",
   "execution_count": 264,
   "metadata": {},
   "outputs": [],
   "source": [
    "df2 = df2[(df2['total_amount']) < 300].reset_index(drop=True) #limit view to rides less than $300 USD to obtain a \n",
    "#better view of the mean fare amount--allows for better estimation. "
   ]
  },
  {
   "cell_type": "code",
   "execution_count": 265,
   "metadata": {},
   "outputs": [
    {
     "data": {
      "text/plain": [
       "<matplotlib.axes._subplots.AxesSubplot at 0x160f24b10>"
      ]
     },
     "execution_count": 265,
     "metadata": {},
     "output_type": "execute_result"
    },
    {
     "data": {
      "image/png": "[encoded data removed]",
      "text/plain": [
       "<Figure size 432x288 with 1 Axes>"
      ]
     },
     "metadata": {
      "needs_background": "light"
     },
     "output_type": "display_data"
    }
   ],
   "source": [
    "sns.boxplot(x = df2['total_amount']) #checking distribution to ensure accuracy "
   ]
  },
  {
   "cell_type": "code",
   "execution_count": 266,
   "metadata": {},
   "outputs": [],
   "source": [
    "#now that OUTLIERS are REMOVED we can run distribution graphs to check for averages \n",
    "import seaborn as sns\n",
    "from scipy import stats"
   ]
  },
  {
   "cell_type": "code",
   "execution_count": 267,
   "metadata": {},
   "outputs": [],
   "source": [
    "sns.set(color_codes=True)"
   ]
  },
  {
   "cell_type": "code",
   "execution_count": 268,
   "metadata": {},
   "outputs": [],
   "source": [
    "grouping = ['passenger_count','total_amount']"
   ]
  },
  {
   "cell_type": "code",
   "execution_count": 269,
   "metadata": {},
   "outputs": [
    {
     "data": {
      "text/plain": [
       "<Figure size 432x288 with 0 Axes>"
      ]
     },
     "metadata": {},
     "output_type": "display_data"
    },
    {
     "data": {
      "image/png": "[encoded data removed]",
      "text/plain": [
       "<Figure size 720x360 with 2 Axes>"
      ]
     },
     "metadata": {},
     "output_type": "display_data"
    }
   ],
   "source": [
    "a=0\n",
    "plt.figure()\n",
    "fig, ax = plt.subplots(3,2, figsize = (10, 5))\n",
    "for columns in grouping:\n",
    "    a += 1\n",
    "    plt.subplot(1, 2, a)\n",
    "    sns.distplot(df2[columns])\n",
    "    plt.axvline(df2[columns].mean(),linewidth  = 2 ,\n",
    "                linestyle = \"dashed\",color = \"b\" ,\n",
    "                label = \"Mean\")\n",
    "    plt.legend(loc = \"best\")\n",
    "    plt.title(columns,color = \"b\")\n",
    "    plt.xlabel(\"\")  "
   ]
  },
  {
   "cell_type": "code",
   "execution_count": 270,
   "metadata": {},
   "outputs": [],
   "source": [
    "#The distribution graphs clearly show that the Mean passengers is approximately ONE.   And the MEAN fare is a slightly \n",
    "#less than $25~approximately $5 to $15 USD.   "
   ]
  },
  {
   "cell_type": "code",
   "execution_count": 271,
   "metadata": {},
   "outputs": [
    {
     "data": {
      "text/html": [
       "<div>\n",
       "<style scoped>\n",
       "    .dataframe tbody tr th:only-of-type {\n",
       "        vertical-align: middle;\n",
       "    }\n",
       "\n",
       "    .dataframe tbody tr th {\n",
       "        vertical-align: top;\n",
       "    }\n",
       "\n",
       "    .dataframe thead th {\n",
       "        text-align: right;\n",
       "    }\n",
       "</style>\n",
       "<table border=\"1\" class=\"dataframe\">\n",
       "  <thead>\n",
       "    <tr style=\"text-align: right;\">\n",
       "      <th></th>\n",
       "      <th>medallion</th>\n",
       "      <th>hack_license</th>\n",
       "      <th>vendor_id</th>\n",
       "      <th>payment_type</th>\n",
       "    </tr>\n",
       "  </thead>\n",
       "  <tbody>\n",
       "    <tr>\n",
       "      <td>count</td>\n",
       "      <td>846924</td>\n",
       "      <td>846924</td>\n",
       "      <td>846924</td>\n",
       "      <td>846924</td>\n",
       "    </tr>\n",
       "    <tr>\n",
       "      <td>unique</td>\n",
       "      <td>13446</td>\n",
       "      <td>38391</td>\n",
       "      <td>2</td>\n",
       "      <td>5</td>\n",
       "    </tr>\n",
       "    <tr>\n",
       "      <td>top</td>\n",
       "      <td>20BA941F62CC07F1FA3EF3E122B1E9B2</td>\n",
       "      <td>03173DD93C1171DA1788E6E7D733C5A9</td>\n",
       "      <td>CMT</td>\n",
       "      <td>CRD</td>\n",
       "    </tr>\n",
       "    <tr>\n",
       "      <td>freq</td>\n",
       "      <td>125</td>\n",
       "      <td>97</td>\n",
       "      <td>424675</td>\n",
       "      <td>456017</td>\n",
       "    </tr>\n",
       "  </tbody>\n",
       "</table>\n",
       "</div>"
      ],
      "text/plain": [
       "                               medallion                      hack_license  \\\n",
       "count                             846924                            846924   \n",
       "unique                             13446                             38391   \n",
       "top     20BA941F62CC07F1FA3EF3E122B1E9B2  03173DD93C1171DA1788E6E7D733C5A9   \n",
       "freq                                 125                                97   \n",
       "\n",
       "       vendor_id payment_type  \n",
       "count     846924       846924  \n",
       "unique         2            5  \n",
       "top          CMT          CRD  \n",
       "freq      424675       456017  "
      ]
     },
     "execution_count": 271,
     "metadata": {},
     "output_type": "execute_result"
    }
   ],
   "source": [
    "#Checking frequencies of Categorical Variables\n",
    "\n",
    "cat = df2.columns[df2.dtypes==\"object\"]\n",
    "df2[cat].describe()"
   ]
  },
  {
   "cell_type": "markdown",
   "metadata": {},
   "source": [
    "Get the actual coordinates: four DataFrame columns\n",
    "These four variables are all Series objects:"
   ]
  },
  {
   "cell_type": "code",
   "execution_count": 272,
   "metadata": {},
   "outputs": [
    {
     "data": {
      "text/html": [
       "<div>\n",
       "<style scoped>\n",
       "    .dataframe tbody tr th:only-of-type {\n",
       "        vertical-align: middle;\n",
       "    }\n",
       "\n",
       "    .dataframe tbody tr th {\n",
       "        vertical-align: top;\n",
       "    }\n",
       "\n",
       "    .dataframe thead th {\n",
       "        text-align: right;\n",
       "    }\n",
       "</style>\n",
       "<table border=\"1\" class=\"dataframe\">\n",
       "  <thead>\n",
       "    <tr style=\"text-align: right;\">\n",
       "      <th></th>\n",
       "      <th>vendor_id</th>\n",
       "      <th>count</th>\n",
       "    </tr>\n",
       "  </thead>\n",
       "  <tbody>\n",
       "    <tr>\n",
       "      <td>0</td>\n",
       "      <td>CMT</td>\n",
       "      <td>424675</td>\n",
       "    </tr>\n",
       "    <tr>\n",
       "      <td>1</td>\n",
       "      <td>VTS</td>\n",
       "      <td>422249</td>\n",
       "    </tr>\n",
       "  </tbody>\n",
       "</table>\n",
       "</div>"
      ],
      "text/plain": [
       "  vendor_id   count\n",
       "0       CMT  424675\n",
       "1       VTS  422249"
      ]
     },
     "execution_count": 272,
     "metadata": {},
     "output_type": "execute_result"
    }
   ],
   "source": [
    "#We can check the Frequency of vendor ID to determine which cab company is more readily available throughout the city\n",
    "NYcabs = pd.crosstab(index=df2[\"vendor_id\"],columns=\"count\")\n",
    "NYcabs.columns.name = None\n",
    "NYcabs = NYcabs.reset_index()\n",
    "NYcabs"
   ]
  },
  {
   "cell_type": "code",
   "execution_count": 273,
   "metadata": {},
   "outputs": [],
   "source": [
    "#From the results we see that the TWO companies CMT and VTS share a proportionate amount of the NYC taxi \n",
    "#business--therefore you have an almost equal probability of getting either one.  However, to be technical, since CMT\n",
    "#has a bit higher frequency, then you could argue that it's easier to get a cab with CMT.  "
   ]
  },
  {
   "cell_type": "markdown",
   "metadata": {},
   "source": [
    "#Scatter Plots and Histograms "
   ]
  },
  {
   "cell_type": "code",
   "execution_count": 274,
   "metadata": {},
   "outputs": [],
   "source": [
    "p_lng = df2.pickup_longitude\n",
    "p_lat = df2.pickup_latitude\n",
    "d_lng = df2.dropoff_longitude\n",
    "d_lat = df2.dropoff_latitude"
   ]
  },
  {
   "cell_type": "code",
   "execution_count": 275,
   "metadata": {},
   "outputs": [
    {
     "data": {
      "text/plain": [
       "0   -73.955925\n",
       "1   -74.005501\n",
       "2   -73.969955\n",
       "3   -73.991432\n",
       "4   -73.966225\n",
       "Name: pickup_longitude, dtype: float64"
      ]
     },
     "execution_count": 275,
     "metadata": {},
     "output_type": "execute_result"
    }
   ],
   "source": [
    "# a Series is an indexed list of values.  Please compare these values to the graphs above--which detail the same values\n",
    "p_lng.head()"
   ]
  },
  {
   "cell_type": "code",
   "execution_count": 276,
   "metadata": {},
   "outputs": [],
   "source": [
    "# Get the coordinates of points in pixels from geographical coordinates.\n",
    "def lat_lng_to_pixels(lat, lng):\n",
    "    lat_rad = lat * np.pi / 180.0\n",
    "    lat_rad = np.log(np.tan((lat_rad + np.pi / 2.0) / 2.0))\n",
    "    x = 100 * (lng + 180.0) / 360.0\n",
    "    y = 100 * (lat_rad - np.pi) / (2.0 * np.pi)\n",
    "    return (x, y)"
   ]
  },
  {
   "cell_type": "code",
   "execution_count": 277,
   "metadata": {},
   "outputs": [
    {
     "data": {
      "text/plain": [
       "0   -37.572749\n",
       "1   -37.586007\n",
       "2   -37.566187\n",
       "3   -37.582580\n",
       "4   -37.575746\n",
       "Name: pickup_latitude, dtype: float64"
      ]
     },
     "execution_count": 277,
     "metadata": {},
     "output_type": "execute_result"
    }
   ],
   "source": [
    "# Get pickup coordinates from pickup latitude and longitude\n",
    "px, py = lat_lng_to_pixels(p_lat, p_lng)\n",
    "py.head()"
   ]
  },
  {
   "cell_type": "markdown",
   "metadata": {},
   "source": [
    "Display a scatter plot of pickup locations\n",
    "Matplotlib scatter function makes a scatter plot of x vs y, where x and y are sequence like objects of the same\n",
    "length.\n",
    "Documentation: http://matplotlib.org/api/pyplot_api.html#matplotlib.pyplot.scatter\n",
    "(http://matplotlib.org/api/pyplot_api.html#matplotlib.pyplot.scatter)"
   ]
  },
  {
   "cell_type": "code",
   "execution_count": 278,
   "metadata": {},
   "outputs": [
    {
     "data": {
      "text/plain": [
       "<matplotlib.collections.PathCollection at 0x182b777d0>"
      ]
     },
     "execution_count": 278,
     "metadata": {},
     "output_type": "execute_result"
    },
    {
     "data": {
      "image/png": "[encoded data removed]",
      "text/plain": [
       "<Figure size 432x288 with 1 Axes>"
      ]
     },
     "metadata": {},
     "output_type": "display_data"
    }
   ],
   "source": [
    "plt.scatter(px, py)"
   ]
  },
  {
   "cell_type": "code",
   "execution_count": 279,
   "metadata": {},
   "outputs": [
    {
     "data": {
      "image/png": "[encoded data removed]",
      "text/plain": [
       "<Figure size 576x504 with 1 Axes>"
      ]
     },
     "metadata": {},
     "output_type": "display_data"
    }
   ],
   "source": [
    "plt.figure(figsize=(8,7))\n",
    "sns.scatterplot(px, py)\n",
    "plt.ylabel(\"pickup latitude\", size=12)\n",
    "plt.xlabel(\"pickup longitude\", size=12)\n",
    "plt.show()"
   ]
  },
  {
   "cell_type": "markdown",
   "metadata": {},
   "source": [
    "### Customize our plot:\n",
    "- Make markers smaller\n",
    "- Make fewer points by making some points transparent\n",
    "- Zoom in around Manhattan\n",
    "- Make figure bigger\n",
    "- Don't display the axes\n",
    "\n",
    "plt or matplotlib.pyplot is a collection of command style functions. Each pyplot function makes some change to\n",
    "a figure: e.g., creates a figure, creates a plotting area in a figure, plots some lines in a plotting area, decorates\n",
    "the plot with labels, etc. ..."
   ]
  },
  {
   "cell_type": "code",
   "execution_count": 280,
   "metadata": {},
   "outputs": [
    {
     "data": {
      "text/plain": [
       "(29.4, 29.55, -37.63, -37.54)"
      ]
     },
     "execution_count": 280,
     "metadata": {},
     "output_type": "execute_result"
    },
    {
     "data": {
      "image/png": "[encoded data removed]",
      "text/plain": [
       "<Figure size 504x360 with 1 Axes>"
      ]
     },
     "metadata": {},
     "output_type": "display_data"
    }
   ],
   "source": [
    "# Specify visual size\n",
    "plt.figure(figsize=(7, 5))\n",
    "plt.scatter(px, py, s=.1, alpha=0.03)\n",
    "plt.axis('equal')\n",
    "plt.xlim(29.40, 29.55)\n",
    "plt.ylim(-37.63, -37.54)\n",
    "# removing the axis \n",
    "plt.axis('off')"
   ]
  },
  {
   "cell_type": "code",
   "execution_count": 281,
   "metadata": {},
   "outputs": [
    {
     "data": {
      "text/html": [
       "<div>\n",
       "<style scoped>\n",
       "    .dataframe tbody tr th:only-of-type {\n",
       "        vertical-align: middle;\n",
       "    }\n",
       "\n",
       "    .dataframe tbody tr th {\n",
       "        vertical-align: top;\n",
       "    }\n",
       "\n",
       "    .dataframe thead th {\n",
       "        text-align: right;\n",
       "    }\n",
       "</style>\n",
       "<table border=\"1\" class=\"dataframe\">\n",
       "  <thead>\n",
       "    <tr style=\"text-align: right;\">\n",
       "      <th></th>\n",
       "      <th>vendor_id</th>\n",
       "      <th>count</th>\n",
       "    </tr>\n",
       "  </thead>\n",
       "  <tbody>\n",
       "    <tr>\n",
       "      <td>0</td>\n",
       "      <td>CMT</td>\n",
       "      <td>424675</td>\n",
       "    </tr>\n",
       "    <tr>\n",
       "      <td>1</td>\n",
       "      <td>VTS</td>\n",
       "      <td>422249</td>\n",
       "    </tr>\n",
       "  </tbody>\n",
       "</table>\n",
       "</div>"
      ],
      "text/plain": [
       "  vendor_id   count\n",
       "0       CMT  424675\n",
       "1       VTS  422249"
      ]
     },
     "execution_count": 281,
     "metadata": {},
     "output_type": "execute_result"
    }
   ],
   "source": [
    "#This is the same code above which shows an alternate method of deciding which vendor is it easier to find a cab\n",
    "NYcabs = pd.crosstab(index=df2[\"vendor_id\"],columns=\"count\")\n",
    "NYcabs.columns.name = None\n",
    "NYcabs = NYcabs.reset_index()\n",
    "NYcabs"
   ]
  },
  {
   "cell_type": "code",
   "execution_count": 282,
   "metadata": {},
   "outputs": [],
   "source": [
    "#Vendor/cab frequencies via Scattor Plots\n",
    "\n",
    "CMT = df2[(df2['vendor_id']) == 'CMT'].reset_index(drop=True)\n",
    "VTS = df2[(df2['vendor_id']) == 'VTS'].reset_index(drop=True)\n",
    "# Get the pickup locations of CMT\n",
    "CMT_lng = CMT.pickup_longitude\n",
    "CMT_lat = CMT.pickup_latitude\n",
    "# Get the pickup locations of VTS\n",
    "VTS_lng = VTS.pickup_longitude\n",
    "VTS_lat = VTS.pickup_latitude\n"
   ]
  },
  {
   "cell_type": "code",
   "execution_count": 283,
   "metadata": {},
   "outputs": [
    {
     "data": {
      "text/plain": [
       "(29.4, 29.55, -37.63, -37.54)"
      ]
     },
     "execution_count": 283,
     "metadata": {},
     "output_type": "execute_result"
    },
    {
     "data": {
      "image/png": "[encoded data removed]",
      "text/plain": [
       "<Figure size 576x360 with 1 Axes>"
      ]
     },
     "metadata": {},
     "output_type": "display_data"
    },
    {
     "data": {
      "image/png": "[encoded data removed]",
      "text/plain": [
       "<Figure size 576x360 with 1 Axes>"
      ]
     },
     "metadata": {},
     "output_type": "display_data"
    }
   ],
   "source": [
    "# Scatterplot of CMT Pickup locations \n",
    "plt.figure(figsize=(8, 5))\n",
    "px1, py1 = lat_lng_to_pixels(CMT_lat, CMT_lng)\n",
    "plt.scatter(px1, py1)\n",
    "plt.figure(figsize=(8, 5))\n",
    "plt.scatter(px1, py1, s=.1, alpha=0.03)\n",
    "plt.axis('equal')\n",
    "plt.xlim(29.40, 29.55)\n",
    "plt.ylim(-37.63, -37.54)\n",
    "plt.title('CMT pickup locations')\n",
    "plt.axis('on')"
   ]
  },
  {
   "cell_type": "code",
   "execution_count": 284,
   "metadata": {},
   "outputs": [
    {
     "data": {
      "text/plain": [
       "(29.4, 29.55, -37.63, -37.54)"
      ]
     },
     "execution_count": 284,
     "metadata": {},
     "output_type": "execute_result"
    },
    {
     "data": {
      "image/png": "[encoded data removed]",
      "text/plain": [
       "<Figure size 576x360 with 1 Axes>"
      ]
     },
     "metadata": {},
     "output_type": "display_data"
    },
    {
     "data": {
      "image/png": "[encoded data removed]",
      "text/plain": [
       "<Figure size 576x360 with 1 Axes>"
      ]
     },
     "metadata": {},
     "output_type": "display_data"
    }
   ],
   "source": [
    "# Scatterplot of VTS pickup locations\n",
    "plt.figure(figsize=(8, 5))\n",
    "px2, py2 = lat_lng_to_pixels(VTS_lat, VTS_lng)\n",
    "plt.scatter(px2, py2)\n",
    "plt.figure(figsize=(8, 5))\n",
    "plt.scatter(px2, py2, s=.1, alpha=0.03)\n",
    "plt.axis('equal')\n",
    "plt.xlim(29.40, 29.55)\n",
    "plt.ylim(-37.63, -37.54)\n",
    "plt.title('VTS pickup locations')\n",
    "plt.axis('off')"
   ]
  },
  {
   "cell_type": "code",
   "execution_count": 285,
   "metadata": {},
   "outputs": [],
   "source": [
    "#Based on the Scatterplots--which are very similar--the argument can be made that it is easier to find a cab with\n",
    "#CMT as it appears to be \"more\" scatered about NYC.   "
   ]
  },
  {
   "cell_type": "markdown",
   "metadata": {},
   "source": [
    "## Display a histogram of the trip distances.\n",
    "pandas Series hist() draws histogram of the input Series using Matplotlib: documentation\n",
    "(http://pandas.pydata.org/pandas-docs/stable/generated/pandas.Series.hist.html).\n",
    "\n",
    "Manhattan Island is 13.4 miles long and 2.3 miles wide.\n",
    "\n",
    "What is a histogram? (https://statistics.laerd.com/statistical-guides/understanding-histograms.php)\n",
    "numpy linspace() returns evenly spaced numbers over a specified interval.\n",
    "Parameters: start - interval start; stop - interval stop; num - number of numbers. numpy linspace()\n",
    "documentation (https://docs.scipy.org/doc/numpy/reference/generated/numpy.linspace.html)\n"
   ]
  },
  {
   "cell_type": "code",
   "execution_count": 286,
   "metadata": {},
   "outputs": [
    {
     "data": {
      "text/plain": [
       "array([ 0.        ,  0.1010101 ,  0.2020202 ,  0.3030303 ,  0.4040404 ,\n",
       "        0.50505051,  0.60606061,  0.70707071,  0.80808081,  0.90909091,\n",
       "        1.01010101,  1.11111111,  1.21212121,  1.31313131,  1.41414141,\n",
       "        1.51515152,  1.61616162,  1.71717172,  1.81818182,  1.91919192,\n",
       "        2.02020202,  2.12121212,  2.22222222,  2.32323232,  2.42424242,\n",
       "        2.52525253,  2.62626263,  2.72727273,  2.82828283,  2.92929293,\n",
       "        3.03030303,  3.13131313,  3.23232323,  3.33333333,  3.43434343,\n",
       "        3.53535354,  3.63636364,  3.73737374,  3.83838384,  3.93939394,\n",
       "        4.04040404,  4.14141414,  4.24242424,  4.34343434,  4.44444444,\n",
       "        4.54545455,  4.64646465,  4.74747475,  4.84848485,  4.94949495,\n",
       "        5.05050505,  5.15151515,  5.25252525,  5.35353535,  5.45454545,\n",
       "        5.55555556,  5.65656566,  5.75757576,  5.85858586,  5.95959596,\n",
       "        6.06060606,  6.16161616,  6.26262626,  6.36363636,  6.46464646,\n",
       "        6.56565657,  6.66666667,  6.76767677,  6.86868687,  6.96969697,\n",
       "        7.07070707,  7.17171717,  7.27272727,  7.37373737,  7.47474747,\n",
       "        7.57575758,  7.67676768,  7.77777778,  7.87878788,  7.97979798,\n",
       "        8.08080808,  8.18181818,  8.28282828,  8.38383838,  8.48484848,\n",
       "        8.58585859,  8.68686869,  8.78787879,  8.88888889,  8.98989899,\n",
       "        9.09090909,  9.19191919,  9.29292929,  9.39393939,  9.49494949,\n",
       "        9.5959596 ,  9.6969697 ,  9.7979798 ,  9.8989899 , 10.        ])"
      ]
     },
     "execution_count": 286,
     "metadata": {},
     "output_type": "execute_result"
    }
   ],
   "source": [
    "bin_array = np.linspace(start=0., stop=10., num=100)\n",
    "bin_array"
   ]
  },
  {
   "cell_type": "code",
   "execution_count": 287,
   "metadata": {},
   "outputs": [
    {
     "data": {
      "text/plain": [
       "<matplotlib.axes._subplots.AxesSubplot at 0x184338ed0>"
      ]
     },
     "execution_count": 287,
     "metadata": {},
     "output_type": "execute_result"
    },
    {
     "data": {
      "image/png": "[encoded data removed]",
      "text/plain": [
       "<Figure size 576x360 with 1 Axes>"
      ]
     },
     "metadata": {},
     "output_type": "display_data"
    }
   ],
   "source": [
    "plt.figure(figsize=(8, 5))\n",
    "df2.trip_distance.hist(bins=bin_array)"
   ]
  },
  {
   "cell_type": "code",
   "execution_count": 288,
   "metadata": {},
   "outputs": [],
   "source": [
    "#From the histogram the most common trip distance is approximately 1.0 mile"
   ]
  },
  {
   "cell_type": "code",
   "execution_count": 289,
   "metadata": {},
   "outputs": [
    {
     "name": "stdout",
     "output_type": "stream",
     "text": [
      "1.00     21815\n",
      "0.90     18915\n",
      "0.80     18449\n",
      "1.10     18263\n",
      "1.20     17823\n",
      "         ...  \n",
      "33.20        1\n",
      "14.46        1\n",
      "48.30        1\n",
      "28.55        1\n",
      "44.90        1\n",
      "Name: trip_distance, Length: 2647, dtype: int64\n"
     ]
    }
   ],
   "source": [
    "x= df2['trip_distance'].value_counts()  #the Value_Counts function provides quantitative evidence that 1.0 miles is \n",
    "#the most common trip distance\n",
    "print(x)"
   ]
  },
  {
   "cell_type": "code",
   "execution_count": 290,
   "metadata": {},
   "outputs": [
    {
     "data": {
      "image/png": "[encoded data removed]",
      "text/plain": [
       "<Figure size 576x360 with 1 Axes>"
      ]
     },
     "metadata": {},
     "output_type": "display_data"
    }
   ],
   "source": [
    "#Histogram for Trip Fares\n",
    "plt.figure(figsize=(8, 5))\n",
    "bin_array = np.linspace(start=0, stop=100, num=100)\n",
    "df2.total_amount.hist(bins=bin_array)\n",
    "plt.xlabel('fare/USD')\n",
    "plt.title('NYC Taxi Fares');"
   ]
  },
  {
   "cell_type": "code",
   "execution_count": 291,
   "metadata": {},
   "outputs": [],
   "source": [
    "#Based on the Histogram it appears that the average fare is approximately $10 USD with a range from about $2 \n",
    "#approximately $75 USD.     "
   ]
  },
  {
   "cell_type": "code",
   "execution_count": 292,
   "metadata": {},
   "outputs": [
    {
     "name": "stdout",
     "output_type": "stream",
     "text": [
      "9.00      30209\n",
      "6.50      28883\n",
      "8.00      28752\n",
      "7.00      27764\n",
      "7.50      27494\n",
      "          ...  \n",
      "23.09         1\n",
      "77.78         1\n",
      "16.73         1\n",
      "140.45        1\n",
      "76.85         1\n",
      "Name: total_amount, Length: 3850, dtype: int64\n"
     ]
    }
   ],
   "source": [
    "y= df2['total_amount'].value_counts() #looking at the quantitative counts which supports our observations.\n",
    "print(y)"
   ]
  },
  {
   "cell_type": "markdown",
   "metadata": {},
   "source": [
    "## Filtering with boolean indexing\n",
    "### Select long rides"
   ]
  },
  {
   "cell_type": "code",
   "execution_count": 293,
   "metadata": {},
   "outputs": [
    {
     "data": {
      "text/html": [
       "<div>\n",
       "<style scoped>\n",
       "    .dataframe tbody tr th:only-of-type {\n",
       "        vertical-align: middle;\n",
       "    }\n",
       "\n",
       "    .dataframe tbody tr th {\n",
       "        vertical-align: top;\n",
       "    }\n",
       "\n",
       "    .dataframe thead th {\n",
       "        text-align: right;\n",
       "    }\n",
       "</style>\n",
       "<table border=\"1\" class=\"dataframe\">\n",
       "  <thead>\n",
       "    <tr style=\"text-align: right;\">\n",
       "      <th></th>\n",
       "      <th>medallion</th>\n",
       "      <th>hack_license</th>\n",
       "      <th>vendor_id</th>\n",
       "      <th>rate_code</th>\n",
       "      <th>pickup_datetime</th>\n",
       "      <th>dropoff_datetime</th>\n",
       "      <th>passenger_count</th>\n",
       "      <th>trip_time_in_secs</th>\n",
       "      <th>trip_distance</th>\n",
       "      <th>pickup_longitude</th>\n",
       "      <th>pickup_latitude</th>\n",
       "      <th>dropoff_longitude</th>\n",
       "      <th>dropoff_latitude</th>\n",
       "      <th>payment_type</th>\n",
       "      <th>fare_amount</th>\n",
       "      <th>surcharge</th>\n",
       "      <th>mta_tax</th>\n",
       "      <th>tip_amount</th>\n",
       "      <th>tolls_amount</th>\n",
       "      <th>total_amount</th>\n",
       "    </tr>\n",
       "  </thead>\n",
       "  <tbody>\n",
       "    <tr>\n",
       "      <td>504497</td>\n",
       "      <td>7237EC7ABD6114EDDC87A3AA846F8418</td>\n",
       "      <td>D52502537E2DF62C9BFFECF5A387E7E9</td>\n",
       "      <td>CMT</td>\n",
       "      <td>1</td>\n",
       "      <td>2013-08-02 11:22:31</td>\n",
       "      <td>2013-08-02 11:33:03</td>\n",
       "      <td>1</td>\n",
       "      <td>631</td>\n",
       "      <td>6005123.0</td>\n",
       "      <td>-73.997467</td>\n",
       "      <td>40.736397</td>\n",
       "      <td>-73.991882</td>\n",
       "      <td>40.764629</td>\n",
       "      <td>CRD</td>\n",
       "      <td>10.0</td>\n",
       "      <td>0.0</td>\n",
       "      <td>0.50</td>\n",
       "      <td>2.62</td>\n",
       "      <td>0.00</td>\n",
       "      <td>13.12</td>\n",
       "    </tr>\n",
       "    <tr>\n",
       "      <td>507107</td>\n",
       "      <td>50DA72F510E2F84A42712E13744FAC7B</td>\n",
       "      <td>EA9D03A766C1D32A6668FFF0C1EB4E4B</td>\n",
       "      <td>CMT</td>\n",
       "      <td>1</td>\n",
       "      <td>2013-08-04 18:42:17</td>\n",
       "      <td>2013-08-04 20:37:19</td>\n",
       "      <td>3</td>\n",
       "      <td>4290965</td>\n",
       "      <td>181.8</td>\n",
       "      <td>-73.978020</td>\n",
       "      <td>40.765167</td>\n",
       "      <td>-73.815041</td>\n",
       "      <td>40.730076</td>\n",
       "      <td>CSH</td>\n",
       "      <td>2.5</td>\n",
       "      <td>0.5</td>\n",
       "      <td>0.50</td>\n",
       "      <td>0.00</td>\n",
       "      <td>5.33</td>\n",
       "      <td>8.83</td>\n",
       "    </tr>\n",
       "    <tr>\n",
       "      <td>548988</td>\n",
       "      <td>A978A0AAE9B2CFEE310FACD97A09C319</td>\n",
       "      <td>CE56A27F53ABF411094B6CD708BFBA96</td>\n",
       "      <td>CMT</td>\n",
       "      <td>1</td>\n",
       "      <td>2013-08-24 17:03:27</td>\n",
       "      <td>2013-08-24 17:03:29</td>\n",
       "      <td>1</td>\n",
       "      <td>1</td>\n",
       "      <td>442.0</td>\n",
       "      <td>-73.993896</td>\n",
       "      <td>40.702644</td>\n",
       "      <td>-73.993874</td>\n",
       "      <td>40.702637</td>\n",
       "      <td>NOC</td>\n",
       "      <td>22.5</td>\n",
       "      <td>0.0</td>\n",
       "      <td>41.49</td>\n",
       "      <td>0.00</td>\n",
       "      <td>0.00</td>\n",
       "      <td>63.99</td>\n",
       "    </tr>\n",
       "    <tr>\n",
       "      <td>558665</td>\n",
       "      <td>5A5C516A820FE476E9D3E14101B669AC</td>\n",
       "      <td>C24585AA866FC76A4E09A05F55DC7E54</td>\n",
       "      <td>CMT</td>\n",
       "      <td>2</td>\n",
       "      <td>2013-08-29 10:01:40</td>\n",
       "      <td>2013-08-29 11:52:20</td>\n",
       "      <td>1</td>\n",
       "      <td>6640</td>\n",
       "      <td>164.4</td>\n",
       "      <td>-73.791534</td>\n",
       "      <td>40.661026</td>\n",
       "      <td>-73.983734</td>\n",
       "      <td>40.765778</td>\n",
       "      <td>NOC</td>\n",
       "      <td>0.0</td>\n",
       "      <td>0.0</td>\n",
       "      <td>0.00</td>\n",
       "      <td>0.00</td>\n",
       "      <td>0.00</td>\n",
       "      <td>0.00</td>\n",
       "    </tr>\n",
       "  </tbody>\n",
       "</table>\n",
       "</div>"
      ],
      "text/plain": [
       "                               medallion                      hack_license  \\\n",
       "504497  7237EC7ABD6114EDDC87A3AA846F8418  D52502537E2DF62C9BFFECF5A387E7E9   \n",
       "507107  50DA72F510E2F84A42712E13744FAC7B  EA9D03A766C1D32A6668FFF0C1EB4E4B   \n",
       "548988  A978A0AAE9B2CFEE310FACD97A09C319  CE56A27F53ABF411094B6CD708BFBA96   \n",
       "558665  5A5C516A820FE476E9D3E14101B669AC  C24585AA866FC76A4E09A05F55DC7E54   \n",
       "\n",
       "       vendor_id  rate_code     pickup_datetime    dropoff_datetime  \\\n",
       "504497       CMT          1 2013-08-02 11:22:31 2013-08-02 11:33:03   \n",
       "507107       CMT          1 2013-08-04 18:42:17 2013-08-04 20:37:19   \n",
       "548988       CMT          1 2013-08-24 17:03:27 2013-08-24 17:03:29   \n",
       "558665       CMT          2 2013-08-29 10:01:40 2013-08-29 11:52:20   \n",
       "\n",
       "        passenger_count  trip_time_in_secs  trip_distance  pickup_longitude  \\\n",
       "504497                1                631      6005123.0        -73.997467   \n",
       "507107                3            4290965          181.8        -73.978020   \n",
       "548988                1                  1          442.0        -73.993896   \n",
       "558665                1               6640          164.4        -73.791534   \n",
       "\n",
       "        pickup_latitude  dropoff_longitude  dropoff_latitude payment_type  \\\n",
       "504497        40.736397         -73.991882         40.764629          CRD   \n",
       "507107        40.765167         -73.815041         40.730076          CSH   \n",
       "548988        40.702644         -73.993874         40.702637          NOC   \n",
       "558665        40.661026         -73.983734         40.765778          NOC   \n",
       "\n",
       "        fare_amount  surcharge  mta_tax  tip_amount  tolls_amount  \\\n",
       "504497         10.0        0.0     0.50        2.62          0.00   \n",
       "507107          2.5        0.5     0.50        0.00          5.33   \n",
       "548988         22.5        0.0    41.49        0.00          0.00   \n",
       "558665          0.0        0.0     0.00        0.00          0.00   \n",
       "\n",
       "        total_amount  \n",
       "504497         13.12  \n",
       "507107          8.83  \n",
       "548988         63.99  \n",
       "558665          0.00  "
      ]
     },
     "execution_count": 293,
     "metadata": {},
     "output_type": "execute_result"
    }
   ],
   "source": [
    "df1.loc[df1.trip_distance > 100] #will use this to determine HOW many rides longer than 100 miles --to see if it \n",
    "#coincides with our graphs above.  "
   ]
  },
  {
   "cell_type": "code",
   "execution_count": 294,
   "metadata": {},
   "outputs": [
    {
     "data": {
      "text/plain": [
       "medallion            4\n",
       "hack_license         4\n",
       "vendor_id            4\n",
       "rate_code            4\n",
       "pickup_datetime      4\n",
       "dropoff_datetime     4\n",
       "passenger_count      4\n",
       "trip_time_in_secs    4\n",
       "trip_distance        4\n",
       "pickup_longitude     4\n",
       "pickup_latitude      4\n",
       "dropoff_longitude    4\n",
       "dropoff_latitude     4\n",
       "payment_type         4\n",
       "fare_amount          4\n",
       "surcharge            4\n",
       "mta_tax              4\n",
       "tip_amount           4\n",
       "tolls_amount         4\n",
       "total_amount         4\n",
       "dtype: int64"
      ]
     },
     "execution_count": 294,
     "metadata": {},
     "output_type": "execute_result"
    }
   ],
   "source": [
    "df1.loc[df1.trip_distance > 100].count()"
   ]
  },
  {
   "cell_type": "code",
   "execution_count": 295,
   "metadata": {},
   "outputs": [],
   "source": [
    "#The Boolean Indexing reveals that there are 4 trips avbove 100 miles; including the 6 million mile trip \n",
    "#as we saw above.  However, there cannot be a 6M mile taxi ride.   Therefore, please see below for the analysis on \n",
    "#dataframe 2 which has had the 6M mile trip removed.   \n"
   ]
  },
  {
   "cell_type": "code",
   "execution_count": 296,
   "metadata": {},
   "outputs": [
    {
     "data": {
      "text/html": [
       "<div>\n",
       "<style scoped>\n",
       "    .dataframe tbody tr th:only-of-type {\n",
       "        vertical-align: middle;\n",
       "    }\n",
       "\n",
       "    .dataframe tbody tr th {\n",
       "        vertical-align: top;\n",
       "    }\n",
       "\n",
       "    .dataframe thead th {\n",
       "        text-align: right;\n",
       "    }\n",
       "</style>\n",
       "<table border=\"1\" class=\"dataframe\">\n",
       "  <thead>\n",
       "    <tr style=\"text-align: right;\">\n",
       "      <th></th>\n",
       "      <th>medallion</th>\n",
       "      <th>hack_license</th>\n",
       "      <th>vendor_id</th>\n",
       "      <th>rate_code</th>\n",
       "      <th>pickup_datetime</th>\n",
       "      <th>dropoff_datetime</th>\n",
       "      <th>passenger_count</th>\n",
       "      <th>trip_time_in_secs</th>\n",
       "      <th>trip_distance</th>\n",
       "      <th>pickup_longitude</th>\n",
       "      <th>pickup_latitude</th>\n",
       "      <th>dropoff_longitude</th>\n",
       "      <th>dropoff_latitude</th>\n",
       "      <th>payment_type</th>\n",
       "      <th>fare_amount</th>\n",
       "      <th>surcharge</th>\n",
       "      <th>mta_tax</th>\n",
       "      <th>tip_amount</th>\n",
       "      <th>tolls_amount</th>\n",
       "      <th>total_amount</th>\n",
       "    </tr>\n",
       "  </thead>\n",
       "  <tbody>\n",
       "    <tr>\n",
       "      <td>507105</td>\n",
       "      <td>50DA72F510E2F84A42712E13744FAC7B</td>\n",
       "      <td>EA9D03A766C1D32A6668FFF0C1EB4E4B</td>\n",
       "      <td>CMT</td>\n",
       "      <td>1</td>\n",
       "      <td>2013-08-04 18:42:17</td>\n",
       "      <td>2013-08-04 20:37:19</td>\n",
       "      <td>3</td>\n",
       "      <td>4290965</td>\n",
       "      <td>181.8</td>\n",
       "      <td>-73.978020</td>\n",
       "      <td>40.765167</td>\n",
       "      <td>-73.815041</td>\n",
       "      <td>40.730076</td>\n",
       "      <td>CSH</td>\n",
       "      <td>2.5</td>\n",
       "      <td>0.5</td>\n",
       "      <td>0.50</td>\n",
       "      <td>0.0</td>\n",
       "      <td>5.33</td>\n",
       "      <td>8.83</td>\n",
       "    </tr>\n",
       "    <tr>\n",
       "      <td>548971</td>\n",
       "      <td>A978A0AAE9B2CFEE310FACD97A09C319</td>\n",
       "      <td>CE56A27F53ABF411094B6CD708BFBA96</td>\n",
       "      <td>CMT</td>\n",
       "      <td>1</td>\n",
       "      <td>2013-08-24 17:03:27</td>\n",
       "      <td>2013-08-24 17:03:29</td>\n",
       "      <td>1</td>\n",
       "      <td>1</td>\n",
       "      <td>442.0</td>\n",
       "      <td>-73.993896</td>\n",
       "      <td>40.702644</td>\n",
       "      <td>-73.993874</td>\n",
       "      <td>40.702637</td>\n",
       "      <td>NOC</td>\n",
       "      <td>22.5</td>\n",
       "      <td>0.0</td>\n",
       "      <td>41.49</td>\n",
       "      <td>0.0</td>\n",
       "      <td>0.00</td>\n",
       "      <td>63.99</td>\n",
       "    </tr>\n",
       "    <tr>\n",
       "      <td>558646</td>\n",
       "      <td>5A5C516A820FE476E9D3E14101B669AC</td>\n",
       "      <td>C24585AA866FC76A4E09A05F55DC7E54</td>\n",
       "      <td>CMT</td>\n",
       "      <td>2</td>\n",
       "      <td>2013-08-29 10:01:40</td>\n",
       "      <td>2013-08-29 11:52:20</td>\n",
       "      <td>1</td>\n",
       "      <td>6640</td>\n",
       "      <td>164.4</td>\n",
       "      <td>-73.791534</td>\n",
       "      <td>40.661026</td>\n",
       "      <td>-73.983734</td>\n",
       "      <td>40.765778</td>\n",
       "      <td>NOC</td>\n",
       "      <td>0.0</td>\n",
       "      <td>0.0</td>\n",
       "      <td>0.00</td>\n",
       "      <td>0.0</td>\n",
       "      <td>0.00</td>\n",
       "      <td>0.00</td>\n",
       "    </tr>\n",
       "  </tbody>\n",
       "</table>\n",
       "</div>"
      ],
      "text/plain": [
       "                               medallion                      hack_license  \\\n",
       "507105  50DA72F510E2F84A42712E13744FAC7B  EA9D03A766C1D32A6668FFF0C1EB4E4B   \n",
       "548971  A978A0AAE9B2CFEE310FACD97A09C319  CE56A27F53ABF411094B6CD708BFBA96   \n",
       "558646  5A5C516A820FE476E9D3E14101B669AC  C24585AA866FC76A4E09A05F55DC7E54   \n",
       "\n",
       "       vendor_id  rate_code     pickup_datetime    dropoff_datetime  \\\n",
       "507105       CMT          1 2013-08-04 18:42:17 2013-08-04 20:37:19   \n",
       "548971       CMT          1 2013-08-24 17:03:27 2013-08-24 17:03:29   \n",
       "558646       CMT          2 2013-08-29 10:01:40 2013-08-29 11:52:20   \n",
       "\n",
       "        passenger_count  trip_time_in_secs  trip_distance  pickup_longitude  \\\n",
       "507105                3            4290965          181.8        -73.978020   \n",
       "548971                1                  1          442.0        -73.993896   \n",
       "558646                1               6640          164.4        -73.791534   \n",
       "\n",
       "        pickup_latitude  dropoff_longitude  dropoff_latitude payment_type  \\\n",
       "507105        40.765167         -73.815041         40.730076          CSH   \n",
       "548971        40.702644         -73.993874         40.702637          NOC   \n",
       "558646        40.661026         -73.983734         40.765778          NOC   \n",
       "\n",
       "        fare_amount  surcharge  mta_tax  tip_amount  tolls_amount  \\\n",
       "507105          2.5        0.5     0.50         0.0          5.33   \n",
       "548971         22.5        0.0    41.49         0.0          0.00   \n",
       "558646          0.0        0.0     0.00         0.0          0.00   \n",
       "\n",
       "        total_amount  \n",
       "507105          8.83  \n",
       "548971         63.99  \n",
       "558646          0.00  "
      ]
     },
     "execution_count": 296,
     "metadata": {},
     "output_type": "execute_result"
    }
   ],
   "source": [
    "df2.loc[df2.trip_distance > 100] #There are 3 taxi rides greater than 100 miles. "
   ]
  },
  {
   "cell_type": "code",
   "execution_count": 297,
   "metadata": {},
   "outputs": [
    {
     "data": {
      "text/plain": [
       "medallion            3\n",
       "hack_license         3\n",
       "vendor_id            3\n",
       "rate_code            3\n",
       "pickup_datetime      3\n",
       "dropoff_datetime     3\n",
       "passenger_count      3\n",
       "trip_time_in_secs    3\n",
       "trip_distance        3\n",
       "pickup_longitude     3\n",
       "pickup_latitude      3\n",
       "dropoff_longitude    3\n",
       "dropoff_latitude     3\n",
       "payment_type         3\n",
       "fare_amount          3\n",
       "surcharge            3\n",
       "mta_tax              3\n",
       "tip_amount           3\n",
       "tolls_amount         3\n",
       "total_amount         3\n",
       "dtype: int64"
      ]
     },
     "execution_count": 297,
     "metadata": {},
     "output_type": "execute_result"
    }
   ],
   "source": [
    "df2.loc[df2.trip_distance > 100].count() #Count function displays above; 3 taxi rides greater than 100 miles. "
   ]
  },
  {
   "cell_type": "code",
   "execution_count": 230,
   "metadata": {},
   "outputs": [],
   "source": [
    "#END of NYC Taxi Assignment "
   ]
  }
 ],
 "metadata": {
  "kernelspec": {
   "display_name": "Python 3",
   "language": "python",
   "name": "python3"
  },
  "language_info": {
   "codemirror_mode": {
    "name": "ipython",
    "version": 3
   },
   "file_extension": ".py",
   "mimetype": "text/x-python",
   "name": "python",
   "nbconvert_exporter": "python",
   "pygments_lexer": "ipython3",
   "version": "3.7.4"
  }
 },
 "nbformat": 4,
 "nbformat_minor": 2
}
